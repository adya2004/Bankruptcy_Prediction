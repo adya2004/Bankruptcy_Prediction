{
 "cells": [
  {
   "cell_type": "code",
   "execution_count": 68,
   "metadata": {},
   "outputs": [],
   "source": [
    "import pandas as pd\n",
    "import numpy as np\n",
    "from sklearn.model_selection import train_test_split\n",
    "from sklearn.preprocessing import StandardScaler\n",
    "from sklearn.linear_model import LogisticRegression\n",
    "from sklearn.ensemble import RandomForestClassifier\n",
    "from xgboost import XGBClassifier\n",
    "from sklearn.feature_selection import SelectKBest, f_classif\n",
    "from sklearn.metrics import accuracy_score, precision_score, recall_score, f1_score, roc_auc_score\n",
    "import seaborn as sns\n",
    "import matplotlib.pyplot as plt"
   ]
  },
  {
   "cell_type": "code",
   "execution_count": 69,
   "metadata": {},
   "outputs": [],
   "source": [
    "# Step 1: Load data\n",
    "bankrupt_data = pd.read_excel('bankrupt_financial_ratio_dataset_final.xlsx')\n",
    "healthy_data = pd.read_excel('healthy_financial_ratio_dataset _final.xlsx')\n",
    "vix_data = pd.read_csv('VIX_yearly_means.csv')\n",
    "\n",
    "# Add target variable\n",
    "bankrupt_data['Bankruptcy'] = 1\n",
    "healthy_data['Bankruptcy'] = 0\n",
    "\n",
    "# Combine datasets\n",
    "data = pd.concat([bankrupt_data, healthy_data], ignore_index=True)"
   ]
  },
  {
   "cell_type": "code",
   "execution_count": 70,
   "metadata": {},
   "outputs": [],
   "source": [
    "# Step 2: Merge with VIX data (adjust for column name)\n",
    "data.rename(columns={'Feature_name': 'Year'}, inplace=True)\n",
    "data = data.merge(vix_data, on='Year', how='left')"
   ]
  },
  {
   "cell_type": "code",
   "execution_count": 71,
   "metadata": {},
   "outputs": [
    {
     "name": "stdout",
     "output_type": "stream",
     "text": [
      "<class 'pandas.core.frame.DataFrame'>\n",
      "RangeIndex: 3576 entries, 0 to 3575\n",
      "Data columns (total 77 columns):\n",
      " #   Column        Non-Null Count  Dtype  \n",
      "---  ------        --------------  -----  \n",
      " 0   Folder_name   3576 non-null   object \n",
      " 1   Year          3576 non-null   int64  \n",
      " 2   x1            3576 non-null   float64\n",
      " 3   x2            3576 non-null   float64\n",
      " 4   x3            3576 non-null   float64\n",
      " 5   x4            3576 non-null   float64\n",
      " 6   x5            3576 non-null   float64\n",
      " 7   x6            3576 non-null   float64\n",
      " 8   x7            3576 non-null   float64\n",
      " 9   x8            3164 non-null   float64\n",
      " 10  x9            3576 non-null   float64\n",
      " 11  x10           3576 non-null   float64\n",
      " 12  x11           3576 non-null   float64\n",
      " 13  x12           3576 non-null   float64\n",
      " 14  x13           3576 non-null   float64\n",
      " 15  x14           3576 non-null   float64\n",
      " 16  x15           3576 non-null   float64\n",
      " 17  x16           3161 non-null   float64\n",
      " 18  x17           3576 non-null   float64\n",
      " 19  x18           3576 non-null   float64\n",
      " 20  x19           3576 non-null   float64\n",
      " 21  x20           3576 non-null   float64\n",
      " 22  x21           3576 non-null   float64\n",
      " 23  x22           3195 non-null   float64\n",
      " 24  x23           3576 non-null   float64\n",
      " 25  x24           3576 non-null   float64\n",
      " 26  x25           3576 non-null   float64\n",
      " 27  x26           3576 non-null   float64\n",
      " 28  x27           3576 non-null   float64\n",
      " 29  x28           3576 non-null   float64\n",
      " 30  x29           3576 non-null   float64\n",
      " 31  x30           3576 non-null   float64\n",
      " 32  x31           3576 non-null   float64\n",
      " 33  x32           3576 non-null   float64\n",
      " 34  x33           3576 non-null   float64\n",
      " 35  x34           3576 non-null   float64\n",
      " 36  x35           3576 non-null   float64\n",
      " 37  x36           3576 non-null   float64\n",
      " 38  x37           3576 non-null   float64\n",
      " 39  x38           3576 non-null   float64\n",
      " 40  x39           3576 non-null   float64\n",
      " 41  x40           3576 non-null   float64\n",
      " 42  x41           3576 non-null   float64\n",
      " 43  x42           3576 non-null   float64\n",
      " 44  x43           3576 non-null   float64\n",
      " 45  x44           3576 non-null   float64\n",
      " 46  x45           3576 non-null   float64\n",
      " 47  x46           3576 non-null   float64\n",
      " 48  x47           3576 non-null   float64\n",
      " 49  x48           3576 non-null   float64\n",
      " 50  x49           3576 non-null   float64\n",
      " 51  x50           3576 non-null   float64\n",
      " 52  x51           3576 non-null   float64\n",
      " 53  x52           3576 non-null   float64\n",
      " 54  x53           3576 non-null   float64\n",
      " 55  x54           3576 non-null   float64\n",
      " 56  x55           3576 non-null   float64\n",
      " 57  x56           3576 non-null   float64\n",
      " 58  x57           3576 non-null   float64\n",
      " 59  x58           3576 non-null   float64\n",
      " 60  x59           3576 non-null   float64\n",
      " 61  x60           3576 non-null   float64\n",
      " 62  x61           3576 non-null   float64\n",
      " 63  x62           3576 non-null   float64\n",
      " 64  x63           3576 non-null   float64\n",
      " 65  x64           3545 non-null   float64\n",
      " 66  x65           3576 non-null   float64\n",
      " 67  x66           3576 non-null   float64\n",
      " 68  Label         3576 non-null   object \n",
      " 69  Bankruptcy    3576 non-null   int64  \n",
      " 70  Open          3387 non-null   float64\n",
      " 71  High          3387 non-null   float64\n",
      " 72  Low           3387 non-null   float64\n",
      " 73  Close         3387 non-null   float64\n",
      " 74  Prev. Close   3387 non-null   float64\n",
      " 75  Change        3387 non-null   float64\n",
      " 76  % Change      3387 non-null   float64\n",
      "dtypes: float64(73), int64(2), object(2)\n",
      "memory usage: 2.1+ MB\n",
      "None\n",
      "              Year           x1          x2           x3           x4  \\\n",
      "count  3576.000000  3576.000000  3576.00000  3576.000000  3576.000000   \n",
      "mean   2018.056488     2.173163     1.75005     0.406081    -0.308809   \n",
      "std       3.493874     8.950431     8.92544     2.798470    36.080992   \n",
      "min    2004.000000     0.000000     0.00000    -0.003281 -1379.150000   \n",
      "25%    2016.000000     0.950000     0.56000     0.038904     0.000000   \n",
      "50%    2018.000000     1.340000     0.91000     0.110149     0.270000   \n",
      "75%    2021.000000     1.960000     1.48000     0.326777     0.960000   \n",
      "max    2023.000000   396.250000   396.25000   141.818182   407.970000   \n",
      "\n",
      "                x5           x6           x7            x8           x9  ...  \\\n",
      "count  3576.000000  3576.000000  3576.000000   3164.000000  3576.000000  ...   \n",
      "mean      0.616885    10.227054    66.451899     -3.884544     1.298794  ...   \n",
      "std       2.589314   215.205994    77.746367    890.269207     2.434832  ...   \n",
      "min       0.000000     0.000000     0.000000 -12612.100000    -8.225000  ...   \n",
      "25%       0.213905     0.019597     1.970000      0.991937     1.047605  ...   \n",
      "50%       0.315356     0.049830    54.855000      1.525927     1.095237  ...   \n",
      "75%       0.475971     0.156214    95.285000      2.779374     1.189953  ...   \n",
      "max      67.000000  5529.000000  1233.550000  45036.625000   109.750000  ...   \n",
      "\n",
      "               x65          x66   Bankruptcy        Open         High   \\\n",
      "count  3576.000000  3576.000000  3576.000000  3387.000000  3387.000000   \n",
      "mean      4.551424     5.795995     0.272931    17.102789    17.819916   \n",
      "std       2.638664     4.044748     0.445528     3.570103     3.715135   \n",
      "min      -1.983859    -5.831053     0.000000    12.444787    12.918303   \n",
      "25%       3.771756     6.386106     0.000000    15.333266    15.849919   \n",
      "50%       5.361666     7.002952     0.000000    17.515020    18.252801   \n",
      "75%       6.695176     7.996254     1.000000    17.999170    18.787287   \n",
      "max       7.556488     9.050278     1.000000    25.511968    26.398444   \n",
      "\n",
      "              Low        Close   Prev. Close       Change     % Change   \n",
      "count  3387.000000  3387.000000   3387.000000  3387.000000  3387.000000  \n",
      "mean     15.633514    17.123115     17.124177    -0.001032     0.119705  \n",
      "std       3.273217     3.583575      3.616404     0.085524     0.262050  \n",
      "min      11.567490    12.444370     12.444787    -0.183574    -0.352289  \n",
      "25%      13.477288    15.325655     15.333266    -0.016573    -0.024677  \n",
      "50%      16.315763    17.484398     17.515020    -0.000363     0.132621  \n",
      "75%      16.485577    18.010405     18.001943     0.008623     0.197033  \n",
      "max      23.216697    25.516386     25.699317     0.187652     0.708502  \n",
      "\n",
      "[8 rows x 75 columns]\n"
     ]
    }
   ],
   "source": [
    "# Step 3: Exploratory Data Analysis\n",
    "print(data.info())\n",
    "print(data.describe())"
   ]
  },
  {
   "cell_type": "code",
   "execution_count": 72,
   "metadata": {},
   "outputs": [
    {
     "data": {
      "image/png": "[encoded data removed]",
      "text/plain": [
       "<Figure size 640x480 with 1 Axes>"
      ]
     },
     "metadata": {},
     "output_type": "display_data"
    }
   ],
   "source": [
    "# Visualize target distribution\n",
    "sns.countplot(x='Bankruptcy', data=data)\n",
    "plt.title('Bankruptcy Class Distribution')\n",
    "plt.show()"
   ]
  },
  {
   "cell_type": "code",
   "execution_count": 73,
   "metadata": {},
   "outputs": [
    {
     "name": "stdout",
     "output_type": "stream",
     "text": [
      "Folder_name       0\n",
      "Year              0\n",
      "x1                0\n",
      "x2                0\n",
      "x3                0\n",
      "               ... \n",
      "Low             189\n",
      "Close           189\n",
      "Prev. Close     189\n",
      "Change          189\n",
      "% Change        189\n",
      "Length: 77, dtype: int64\n"
     ]
    }
   ],
   "source": [
    "# Check for missing values\n",
    "print(data.isnull().sum())\n",
    "\n",
    "# Handle missing values: Impute with column medians for all numeric columns\n",
    "for column in data.select_dtypes(include=[np.number]).columns:\n",
    "    data[column] = data[column].fillna(data[column].median())\n",
    "\n"
   ]
  },
  {
   "cell_type": "code",
   "execution_count": 74,
   "metadata": {},
   "outputs": [],
   "source": [
    "# Feature scaling\n",
    "features = data.drop(columns=['Bankruptcy', 'Year','Folder_name','Label'])\n",
    "scaler = StandardScaler()\n",
    "scaled_features = scaler.fit_transform(features)"
   ]
  },
  {
   "cell_type": "code",
   "execution_count": 75,
   "metadata": {},
   "outputs": [],
   "source": [
    "# Prepare final dataset\n",
    "X = pd.DataFrame(scaled_features, columns=features.columns)\n",
    "y = data['Bankruptcy']\n"
   ]
  },
  {
   "cell_type": "code",
   "execution_count": 76,
   "metadata": {},
   "outputs": [],
   "source": [
    "# Step 4: Split data\n",
    "X_train, X_test, y_train, y_test = train_test_split(X, y, test_size=0.2, random_state=42, stratify=y)\n",
    "# Define function to print performance metrics\n",
    "def print_metrics(model_name, y_test, y_preds, y_probs):\n",
    "    print(f\"{model_name} Performance:\")\n",
    "    print(f\"Test Accuracy: {accuracy_score(y_test, y_preds):.4f}\")\n",
    "    print(f\"Precision: {precision_score(y_test, y_preds):.4f}\")\n",
    "    print(f\"Recall: {recall_score(y_test, y_preds):.4f}\")\n",
    "    print(f\"F1 Score: {f1_score(y_test, y_preds):.4f}\")\n",
    "    print(f\"ROC AUC: {roc_auc_score(y_test, y_probs):.4f}\\n\")"
   ]
  },
  {
   "cell_type": "code",
   "execution_count": 77,
   "metadata": {},
   "outputs": [
    {
     "name": "stdout",
     "output_type": "stream",
     "text": [
      "Logistic Regression Performance:\n",
      "Test Accuracy: 0.9106\n",
      "Precision: 0.8876\n",
      "Recall: 0.7692\n",
      "F1 Score: 0.8242\n",
      "ROC AUC: 0.9500\n",
      "\n"
     ]
    }
   ],
   "source": [
    "# Step 5: Logistic Regression\n",
    "log_model = LogisticRegression()\n",
    "log_model.fit(X_train, y_train)\n",
    "log_preds = log_model.predict(X_test)\n",
    "log_probs = log_model.predict_proba(X_test)[:, 1]\n",
    "print_metrics(\"Logistic Regression\", y_test, log_preds, log_probs)"
   ]
  },
  {
   "cell_type": "code",
   "execution_count": 78,
   "metadata": {},
   "outputs": [
    {
     "name": "stdout",
     "output_type": "stream",
     "text": [
      "Random Forest Performance:\n",
      "Test Accuracy: 0.9455\n",
      "Precision: 0.9149\n",
      "Recall: 0.8821\n",
      "F1 Score: 0.8982\n",
      "ROC AUC: 0.9834\n",
      "\n"
     ]
    }
   ],
   "source": [
    "# Step 6: Random Forest\n",
    "rf_model = RandomForestClassifier(random_state=42)\n",
    "rf_model.fit(X_train, y_train)\n",
    "rf_preds = rf_model.predict(X_test)\n",
    "rf_probs = rf_model.predict_proba(X_test)[:, 1]\n",
    "print_metrics(\"Random Forest\", y_test, rf_preds, rf_probs)"
   ]
  },
  {
   "cell_type": "code",
   "execution_count": 79,
   "metadata": {},
   "outputs": [
    {
     "name": "stderr",
     "output_type": "stream",
     "text": [
      "c:\\Users\\chira\\AppData\\Local\\Programs\\Python\\Python312\\Lib\\site-packages\\xgboost\\core.py:158: UserWarning: [00:18:11] WARNING: C:\\buildkite-agent\\builds\\buildkite-windows-cpu-autoscaling-group-i-0c55ff5f71b100e98-1\\xgboost\\xgboost-ci-windows\\src\\learner.cc:740: \n",
      "Parameters: { \"use_label_encoder\" } are not used.\n",
      "\n",
      "  warnings.warn(smsg, UserWarning)\n"
     ]
    },
    {
     "name": "stdout",
     "output_type": "stream",
     "text": [
      "XGBoost Performance:\n",
      "Test Accuracy: 0.9539\n",
      "Precision: 0.9451\n",
      "Recall: 0.8821\n",
      "F1 Score: 0.9125\n",
      "ROC AUC: 0.9875\n",
      "\n"
     ]
    }
   ],
   "source": [
    "# Step 7: XGBoost\n",
    "xgb_model = XGBClassifier(use_label_encoder=False, eval_metric='logloss', random_state=42)\n",
    "xgb_model.fit(X_train, y_train)\n",
    "xgb_preds = xgb_model.predict(X_test)\n",
    "xgb_probs = xgb_model.predict_proba(X_test)[:, 1]\n",
    "print_metrics(\"XGBoost\", y_test, xgb_preds, xgb_probs)"
   ]
  },
  {
   "cell_type": "code",
   "execution_count": 80,
   "metadata": {},
   "outputs": [
    {
     "data": {
      "image/png": "[encoded data removed]",
      "text/plain": [
       "<Figure size 640x480 with 1 Axes>"
      ]
     },
     "metadata": {},
     "output_type": "display_data"
    }
   ],
   "source": [
    "# Step 8: Model Comparison\n",
    "models = ['Logistic Regression', 'Random Forest', 'XGBoost']\n",
    "auc_scores = [\n",
    "    roc_auc_score(y_test, log_probs),\n",
    "    roc_auc_score(y_test, rf_probs),\n",
    "    roc_auc_score(y_test, xgb_probs)\n",
    "]\n",
    "\n",
    "plt.bar(models, auc_scores, color=['blue', 'green', 'red'])\n",
    "plt.ylabel('ROC-AUC Score')\n",
    "plt.title('Model Comparison')\n",
    "plt.show()\n"
   ]
  },
  {
   "cell_type": "markdown",
   "metadata": {},
   "source": [
    "selected_ratios = [\"x1\", \"x4\", \"x13\", \"x15\", \"x26\", \"x28\"]\n",
    "### Note:- This is without Lagged Features , Rolling statistics and  VIX\n",
    "## Description of Selected Financial Ratios\n",
    "The six financial ratios chosen for the model were carefully selected to provide a comprehensive assessment of a company’s financial health. They were chosen because they represent key aspects of financial analysis that are most indicative of bankruptcy risk:\n",
    "\n",
    "#### 1. Current Ratio (x1)\n",
    "This ratio evaluates a company’s liquidity by measuring its ability to cover short-term obligations with short-term assets. Companies with liquidity issues often struggle to meet obligations, which is a common precursor to financial distress.\n",
    "\n",
    "Role in Prediction: Low or declining current ratios are strong indicators of cash flow problems and increased bankruptcy risk.\n",
    "\n",
    "#### 2. Debt-to-Equity Ratio (x4)\n",
    "This leverage ratio measures the extent to which a company is financed through debt relative to equity. High leverage increases financial risk, especially during economic downturns.\n",
    "\n",
    "Role in Prediction: Rising debt-to-equity ratios can signal unsustainable debt levels, making it a critical predictor of financial instability.\n",
    "\n",
    "#### 3. Total Debt to Total Assets (x13)\n",
    "This ratio provides another view of leverage by assessing the proportion of a company’s assets financed by debt. It complements the debt-to-equity ratio by focusing on the relationship between debt and total assets.\n",
    "\n",
    "Role in Prediction: High values of this ratio indicate a company’s heavy reliance on debt to finance its assets, increasing its vulnerability to financial shocks.\n",
    "\n",
    "#### 4. Asset Turnover Ratio (x15)\n",
    "This efficiency ratio measures how effectively a company uses its assets to generate sales. Operational inefficiency can signal underlying issues in a company’s business model or management.\n",
    "\n",
    "Role in Prediction: Declining asset turnover ratios suggest inefficiencies that may lead to lower profitability and higher risk of bankruptcy.\n",
    "\n",
    "#### 5. Total Liabilities to Total Assets (x26)\n",
    "This ratio offers a comprehensive view of financial risk by comparing total liabilities to total assets. It captures the extent to which a company’s assets are financed through liabilities.\n",
    "\n",
    "Role in Prediction: High or increasing values indicate limited financial flexibility and greater risk of insolvency.\n",
    "\n",
    "#### 6. Return on Investment (ROI) (x28)\n",
    "ROI measures profitability relative to total invested capital. It reflects how effectively a company is using its financial resources to generate returns.\n",
    "\n",
    "Role in Prediction: Declining ROI highlights profitability issues, which are a common sign of financial distress and a precursor to bankruptcy.\n",
    "\n",
    "## Justification for Selected Financial Ratios\n",
    "#### Comprehensive Coverage of Financial Health:\n",
    "These six ratios collectively capture key dimensions of financial health:\n",
    "\n",
    "    Liquidity: Current Ratio (x1)\n",
    "\n",
    "    Leverage: Debt-to-Equity Ratio (x4) and Total Debt to Total Assets (x13)\n",
    "\n",
    "    Operational Efficiency: Asset Turnover Ratio (x15)\n",
    "\n",
    "    Financial Risk: Total Liabilities to Total Assets (x26)\n",
    "\n",
    "    Profitability: Return on Investment (x28)\n",
    "\n",
    "#### Proven Relevance to Bankruptcy Risk:\n",
    "These ratios are well-documented in financial literature as strong predictors of bankruptcy, aligning with frameworks such as Altman’s Z-Score and other financial distress prediction models.\n",
    "\n",
    "#### Interpretability:\n",
    "Each ratio is easy to interpret and aligns with fundamental financial analysis principles, making the model’s predictions more explainable to stakeholders.\n",
    "\n",
    "#### Balance of Risk Indicators:\n",
    "By including ratios from different categories (liquidity, leverage, efficiency, and profitability), the model can assess multiple risk factors contributing to bankruptcy.\n"
   ]
  },
  {
   "cell_type": "code",
   "execution_count": 81,
   "metadata": {},
   "outputs": [],
   "source": [
    "# Selected ratios\n",
    "selected_ratios = [\"x1\", \"x4\", \"x13\", \"x15\", \"x26\", \"x28\"]\n",
    "\n",
    "# Feature scaling\n",
    "scaler = StandardScaler()\n",
    "scaled_features = scaler.fit_transform(data[selected_ratios])\n",
    "\n",
    "# Prepare final dataset\n",
    "X = pd.DataFrame(scaled_features, columns=selected_ratios)\n",
    "y = data['Bankruptcy']"
   ]
  },
  {
   "cell_type": "code",
   "execution_count": 82,
   "metadata": {},
   "outputs": [],
   "source": [
    "# Step 4: Split data\n",
    "X_train, X_test, y_train, y_test = train_test_split(X, y, test_size=0.2, random_state=42, stratify=y)\n",
    "\n",
    "# Define function to print performance metrics\n",
    "def print_metrics(model_name, y_test, y_preds, y_probs):\n",
    "    print(f\"{model_name} Performance:\")\n",
    "    print(f\"Test Accuracy: {accuracy_score(y_test, y_preds):.4f}\")\n",
    "    print(f\"Precision: {precision_score(y_test, y_preds):.4f}\")\n",
    "    print(f\"Recall: {recall_score(y_test, y_preds):.4f}\")\n",
    "    print(f\"F1 Score: {f1_score(y_test, y_preds):.4f}\")\n",
    "    print(f\"ROC AUC: {roc_auc_score(y_test, y_probs):.4f}\\n\")"
   ]
  },
  {
   "cell_type": "code",
   "execution_count": 83,
   "metadata": {},
   "outputs": [
    {
     "name": "stdout",
     "output_type": "stream",
     "text": [
      "Logistic Regression Performance:\n",
      "Test Accuracy: 0.8338\n",
      "Precision: 0.8878\n",
      "Recall: 0.4462\n",
      "F1 Score: 0.5939\n",
      "ROC AUC: 0.8905\n",
      "\n"
     ]
    }
   ],
   "source": [
    "# Step 5: Logistic Regression\n",
    "log_model = LogisticRegression()\n",
    "log_model.fit(X_train, y_train)\n",
    "log_preds = log_model.predict(X_test)\n",
    "log_probs = log_model.predict_proba(X_test)[:, 1]\n",
    "print_metrics(\"Logistic Regression\", y_test, log_preds, log_probs)"
   ]
  },
  {
   "cell_type": "code",
   "execution_count": 84,
   "metadata": {},
   "outputs": [
    {
     "name": "stdout",
     "output_type": "stream",
     "text": [
      "Random Forest Performance:\n",
      "Test Accuracy: 0.8911\n",
      "Precision: 0.8268\n",
      "Recall: 0.7590\n",
      "F1 Score: 0.7914\n",
      "ROC AUC: 0.9493\n",
      "\n"
     ]
    }
   ],
   "source": [
    "# Step 6: Random Forest\n",
    "rf_model = RandomForestClassifier(random_state=42)\n",
    "rf_model.fit(X_train, y_train)\n",
    "rf_preds = rf_model.predict(X_test)\n",
    "rf_probs = rf_model.predict_proba(X_test)[:, 1]\n",
    "print_metrics(\"Random Forest\", y_test, rf_preds, rf_probs)"
   ]
  },
  {
   "cell_type": "code",
   "execution_count": 85,
   "metadata": {},
   "outputs": [
    {
     "name": "stdout",
     "output_type": "stream",
     "text": [
      "XGBoost Performance:\n",
      "Test Accuracy: 0.8911\n",
      "Precision: 0.8031\n",
      "Recall: 0.7949\n",
      "F1 Score: 0.7990\n",
      "ROC AUC: 0.9510\n",
      "\n"
     ]
    },
    {
     "name": "stderr",
     "output_type": "stream",
     "text": [
      "c:\\Users\\chira\\AppData\\Local\\Programs\\Python\\Python312\\Lib\\site-packages\\xgboost\\core.py:158: UserWarning: [00:18:27] WARNING: C:\\buildkite-agent\\builds\\buildkite-windows-cpu-autoscaling-group-i-0c55ff5f71b100e98-1\\xgboost\\xgboost-ci-windows\\src\\learner.cc:740: \n",
      "Parameters: { \"use_label_encoder\" } are not used.\n",
      "\n",
      "  warnings.warn(smsg, UserWarning)\n"
     ]
    }
   ],
   "source": [
    "# Step 7: XGBoost\n",
    "xgb_model = XGBClassifier(use_label_encoder=False, eval_metric='logloss', random_state=42)\n",
    "xgb_model.fit(X_train, y_train)\n",
    "xgb_preds = xgb_model.predict(X_test)\n",
    "xgb_probs = xgb_model.predict_proba(X_test)[:, 1]\n",
    "print_metrics(\"XGBoost\", y_test, xgb_preds, xgb_probs)"
   ]
  },
  {
   "cell_type": "code",
   "execution_count": 86,
   "metadata": {},
   "outputs": [
    {
     "data": {
      "image/png": "[encoded data removed]",
      "text/plain": [
       "<Figure size 640x480 with 1 Axes>"
      ]
     },
     "metadata": {},
     "output_type": "display_data"
    }
   ],
   "source": [
    "# Step 8: Model Comparison\n",
    "models = ['Logistic Regression', 'Random Forest', 'XGBoost']\n",
    "auc_scores = [\n",
    "    roc_auc_score(y_test, log_probs),\n",
    "    roc_auc_score(y_test, rf_probs),\n",
    "    roc_auc_score(y_test, xgb_probs)\n",
    "]\n",
    "\n",
    "plt.bar(models, auc_scores, color=['blue', 'green', 'red'])\n",
    "plt.ylabel('ROC-AUC Score')\n",
    "plt.title('Model Comparison')\n",
    "plt.show()\n"
   ]
  }
 ],
 "metadata": {
  "kernelspec": {
   "display_name": "Python 3",
   "language": "python",
   "name": "python3"
  },
  "language_info": {
   "codemirror_mode": {
    "name": "ipython",
    "version": 3
   },
   "file_extension": ".py",
   "mimetype": "text/x-python",
   "name": "python",
   "nbconvert_exporter": "python",
   "pygments_lexer": "ipython3",
   "version": "3.12.0"
  }
 },
 "nbformat": 4,
 "nbformat_minor": 2
}
