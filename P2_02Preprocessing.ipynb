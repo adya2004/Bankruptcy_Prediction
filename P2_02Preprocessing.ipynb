{
 "cells": [
  {
   "cell_type": "markdown",
   "metadata": {},
   "source": [
    "In this ipynb file we handle contractions in our datsets, and also normalize it before sending it to LLM for summarization and NER tasks"
   ]
  },
  {
   "cell_type": "markdown",
   "metadata": {},
   "source": [
    "#### **Preprocessing**:"
   ]
  },
  {
   "cell_type": "code",
   "execution_count": 1,
   "metadata": {},
   "outputs": [],
   "source": [
    "import os\n",
    "import re\n",
    "import nltk\n",
    "import spacy\n",
    "\n",
    "from nltk.tokenize import sent_tokenize\n",
    "from typing import List, Dict, Any, Set"
   ]
  },
  {
   "cell_type": "markdown",
   "metadata": {},
   "source": [
    "##### **Handle contractions**"
   ]
  },
  {
   "cell_type": "code",
   "execution_count": 2,
   "metadata": {},
   "outputs": [],
   "source": [
    "# average token length of bankrupt company files is 3345 & healthy company files is 5975\n",
    "\n",
    "# can remove contraction with the help of dictionary mapping\n",
    "# do this before removing punctuations \n",
    "contractions_dict = { \n",
    "    \"ain't\": \"are not\", \"'s\":\" is\", \"aren't\": \"are not\", \"can't\": \"cannot\", \"can't've\": \"cannot have\", \"'cause\": \"because\", \"could've\": \"could have\", \"couldn't\": \"could not\", \"couldn't've\": \"could not have\", \"didn't\": \"did not\", \"doesn't\": \"does not\", \"don't\": \"do not\", \"hadn't\": \"had not\", \"hadn't've\": \"had not have\", \"hasn't\": \"has not\", \"haven't\": \"have not\", \"he'd\": \"he would\", \"he'd've\": \"he would have\", \"he'll\": \"he will\", \"he'll've\": \"he will have\", \n",
    "    \"how'd\": \"how did\", \"how'd'y\": \"how do you\", \"how'll\": \"how will\", \"I'd\": \"I would\", \"I'd've\": \"I would have\", \"I'll\": \"I will\", \"I'll've\": \"I will have\", \"I'm\": \"I am\", \"I've\": \"I have\", \"isn't\": \"is not\", \"it'd\": \"it would\", \"it'd've\": \"it would have\", \"it'll\": \"it will\", \"it'll've\": \"it will have\", \"let's\": \"let us\", \"ma'am\": \"madam\", \"mayn't\": \"may not\", \"might've\": \"might have\", \"mightn't\": \"might not\", \"mightn't've\": \"might not have\", \"must've\": \"must have\", \n",
    "    \"mustn't\": \"must not\", \"mustn't've\": \"must not have\", \"needn't\": \"need not\", \"needn't've\": \"need not have\", \"o'clock\": \"of the clock\", \"oughtn't\": \"ought not\", \"oughtn't've\": \"ought not have\", \"shan't\": \"shall not\", \"sha'n't\": \"shall not\", \"shan't've\": \"shall not have\", \"she'd\": \"she would\", \"she'd've\": \"she would have\", \"she'll\": \"she will\", \"she'll've\": \"she will have\", \"should've\": \"should have\", \"shouldn't\": \"should not\", \"shouldn't've\": \"should not have\", \n",
    "    \"so've\": \"so have\", \"that'd\": \"that would\", \"that'd've\": \"that would have\", \"there'd\": \"there would\", \"there'd've\": \"there would have\", \"they'd\": \"they would\", \"they'd've\": \"they would have\",\"they'll\": \"they will\", \"they'll've\": \"they will have\", \"they're\": \"they are\", \"they've\": \"they have\", \"to've\": \"to have\", \"wasn't\": \"was not\", \"we'd\": \"we would\", \"we'd've\": \"we would have\", \"we'll\": \"we will\", \"we'll've\": \"we will have\", \"we're\": \"we are\", \"we've\": \"we have\", \n",
    "    \"weren't\": \"were not\",\"what'll\": \"what will\", \"what'll've\": \"what will have\", \"what're\": \"what are\", \"what've\": \"what have\", \"when've\": \"when have\", \"where'd\": \"where did\", \"where've\": \"where have\", \"who'll\": \"who will\", \"who'll've\": \"who will have\", \"who've\": \"who have\", \"why've\": \"why have\", \"will've\": \"will have\", \"won't\": \"will not\", \"won't've\": \"will not have\", \"would've\": \"would have\", \"wouldn't\": \"would not\", \"wouldn't've\": \"would not have\", \"y'all\": \"you all\", \n",
    "    \"y'all'd\": \"you all would\", \"y'all'd've\": \"you all would have\", \"y'all're\": \"you all are\", \"y'all've\": \"you all have\", \"you'd\": \"you would\", \"you'd've\": \"you would have\", \"you'll\": \"you will\", \"you'll've\": \"you will have\", \"you're\": \"you are\", \"you've\": \"you have\"\n",
    " }\n",
    "\n",
    "# groups the contractions into a regular expression like \"(can't|won't)\"\n",
    "contractions_re = re.compile('(%s)'%'|'.join(contractions_dict.keys()))\n",
    "\n",
    "def expand_contractions(text: str, contractions_dict: Dict[str, str] = contractions_dict) -> str:\n",
    "    \"\"\"\n",
    "    Expand contractions in the text\n",
    "    \"\"\"\n",
    "    def replace(match):\n",
    "        return contractions_dict[match.group(0)]\n",
    "    return contractions_re.sub(replace, text)"
   ]
  },
  {
   "cell_type": "markdown",
   "metadata": {},
   "source": [
    "##### **Normalize the data**"
   ]
  },
  {
   "cell_type": "code",
   "execution_count": 3,
   "metadata": {},
   "outputs": [
    {
     "data": {
      "text/plain": [
       "True"
      ]
     },
     "execution_count": 3,
     "metadata": {},
     "output_type": "execute_result"
    }
   ],
   "source": [
    "nltk.download('punkt', quiet=True)\n",
    "nltk.download('stopwords', quiet=True)\n",
    "nltk.download('wordnet', quiet=True)"
   ]
  },
  {
   "cell_type": "markdown",
   "metadata": {},
   "source": [
    "Handle contractions first, then tokenize the sentence"
   ]
  },
  {
   "cell_type": "code",
   "execution_count": 9,
   "metadata": {},
   "outputs": [],
   "source": [
    "# can create chunks of text for each line in the file and save it\n",
    "\n",
    "# bankrupt_files_path = r'Dataset\\Final Dataset\\Bankrupt'\n",
    "# healthy_files_path = r'Dataset\\Final Dataset\\Healthy'\n",
    "\n",
    "# write a function which can take token_size as input and create chunks of text for the document\n",
    "def process_data(file_path: str, token_size: int = 2000, generate_chunks: bool = False):\n",
    "    \"\"\"\n",
    "    read a file and if need to chunk, then create chunks of text and\n",
    "    rewrite it on the same file.\n",
    "    \"\"\"\n",
    "    # not going to remove stopwords as they can change the meaning!\n",
    "    with open(file_path, 'r', encoding='utf-8') as file:\n",
    "        text = file.read()\n",
    "        text = expand_contractions(text)\n",
    "        sentences = sent_tokenize(text)\n",
    "        sentences = [ \" \".join(sentence.split('\\n')) for sentence in sentences]\n",
    "        sentences = \" \".join(sentences)\n",
    "        # convert to word tokenization to use it as tokens\n",
    "        sentences = sentences.split()\n",
    "        if(len(sentences) <= 50):\n",
    "            print(\"removed invalid file\")\n",
    "            return 1\n",
    "        # print(len(sentences))\n",
    "        # if need to chunk the text\n",
    "        if(generate_chunks):\n",
    "            chunks = []\n",
    "            for i in range(0, len(sentences), token_size):\n",
    "                chunk = \" \".join(sentences[i:i+token_size])\n",
    "                chunks.append(chunk)\n",
    "            with open(file_path, 'w', encoding='utf-8') as file:\n",
    "                multiline_text = \"\\n\".join(chunks)\n",
    "                file.write(multiline_text)\n",
    "        else:\n",
    "            with open(file_path, 'w', encoding='utf-8') as file:\n",
    "                file.write(\" \".join(sentences))\n",
    "    return 0"
   ]
  },
  {
   "cell_type": "markdown",
   "metadata": {},
   "source": [
    "###### Run this only **once**"
   ]
  },
  {
   "cell_type": "code",
   "execution_count": 10,
   "metadata": {},
   "outputs": [],
   "source": [
    "bankrupt_files_path = r'Dataset\\Phase-II\\Bankrupt'\n",
    "healthy_files_path = r'Dataset\\Phase-II\\Healthy'\n",
    "\n",
    "for files in os.listdir(bankrupt_files_path):\n",
    "    process_data(os.path.join(bankrupt_files_path, files), generate_chunks=True)\n",
    "\n",
    "for files in os.listdir(healthy_files_path):\n",
    "    flag = process_data(os.path.join(healthy_files_path, files), generate_chunks=True)\n",
    "    os.remove(os.path.join(healthy_files_path, files)) if flag == 1 else None"
   ]
  },
  {
   "cell_type": "code",
   "execution_count": null,
   "metadata": {},
   "outputs": [],
   "source": [
    "# checking if chunking working properly or not\n",
    "sample_file = r'AMTEKAUTO_2019_MDA.txt'\n",
    "chunks = []\n",
    "with open(sample_file, 'r', encoding='utf-8') as file:\n",
    "    text = file.read()\n",
    "    sentences = text.split()\n",
    "    print(len(sentences))\n",
    "    for i in range(0, len(sentences), 5000):\n",
    "        chunk = (\" \".join(sentences[i:i+5000]))\n",
    "        chunks.append(chunk)\n",
    "    print('\\n'.join(chunks))\n",
    "\n",
    "# print(len(chunks))   "
   ]
  }
 ],
 "metadata": {
  "kernelspec": {
   "display_name": ".nlp",
   "language": "python",
   "name": "python3"
  },
  "language_info": {
   "codemirror_mode": {
    "name": "ipython",
    "version": 3
   },
   "file_extension": ".py",
   "mimetype": "text/x-python",
   "name": "python",
   "nbconvert_exporter": "python",
   "pygments_lexer": "ipython3",
   "version": "3.10.11"
  }
 },
 "nbformat": 4,
 "nbformat_minor": 2
}
