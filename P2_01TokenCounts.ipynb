{
 "cells": [
  {
   "cell_type": "markdown",
   "metadata": {},
   "source": [
    "### Checking the average number of tokens for bankrupt company files and healthy company files"
   ]
  },
  {
   "cell_type": "code",
   "execution_count": 12,
   "metadata": {},
   "outputs": [],
   "source": [
    "# count number of average tokens in the text dataset\n",
    "import os\n",
    "\n",
    "def count_tokens(file_path):\n",
    "    with open(file_path, 'r', encoding='utf-8') as f:\n",
    "        lines = f.readlines()\n",
    "        total_tokens = 0\n",
    "        for line in lines:\n",
    "            tokens = line.strip().split()\n",
    "            total_tokens += len(tokens)\n",
    "    return total_tokens"
   ]
  },
  {
   "cell_type": "code",
   "execution_count": 15,
   "metadata": {},
   "outputs": [
    {
     "name": "stdout",
     "output_type": "stream",
     "text": [
      "Average tokens in bankrupt files: 3345.3084577114428\n",
      "Average tokens in healthy files: 5975.557142857143\n"
     ]
    }
   ],
   "source": [
    "bankrupt_files_path = r'Dataset\\Final Dataset\\Bankrupt'\n",
    "healthy_files_path = r'Dataset\\Final Dataset\\Healthy'\n",
    "\n",
    "avg_bankrupt_tokens, num_bankrupt_files = 0, 0\n",
    "avg_healthy_tokens, num_healthy_files = 0, 0\n",
    "\n",
    "# remove text with less that 100 tokens\n",
    "for file in os.listdir(bankrupt_files_path):\n",
    "    file_path = os.path.join(bankrupt_files_path, file)\n",
    "    var = count_tokens(file_path)\n",
    "    if var < 100:\n",
    "        try: os.remove(file_path)\n",
    "        except Exception as e: print(e)\n",
    "    else:\n",
    "        avg_bankrupt_tokens += var\n",
    "        num_bankrupt_files += 1\n",
    "\n",
    "for file in os.listdir(healthy_files_path):\n",
    "    file_path = os.path.join(healthy_files_path, file)\n",
    "    var = count_tokens(file_path)\n",
    "    if var < 100:\n",
    "        try: os.remove(file_path)\n",
    "        except Exception as e: print(e)\n",
    "    else:\n",
    "        avg_healthy_tokens += var\n",
    "        num_healthy_files += 1\n",
    "\n",
    "try:\n",
    "    print(f'Average tokens in bankrupt files: {avg_bankrupt_tokens/num_bankrupt_files}')\n",
    "    print(f'Average tokens in healthy files: {avg_healthy_tokens/num_healthy_files}')\n",
    "except ZeroDivisionError:\n",
    "    print('No files found in the directory')\n"
   ]
  }
 ],
 "metadata": {
  "kernelspec": {
   "display_name": ".langchain",
   "language": "python",
   "name": "python3"
  },
  "language_info": {
   "codemirror_mode": {
    "name": "ipython",
    "version": 3
   },
   "file_extension": ".py",
   "mimetype": "text/x-python",
   "name": "python",
   "nbconvert_exporter": "python",
   "pygments_lexer": "ipython3",
   "version": "3.10.11"
  }
 },
 "nbformat": 4,
 "nbformat_minor": 2
}
