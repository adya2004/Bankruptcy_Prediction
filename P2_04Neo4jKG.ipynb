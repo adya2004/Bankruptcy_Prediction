{
 "cells": [
  {
   "cell_type": "markdown",
   "metadata": {},
   "source": [
    "#### This Note is for generating Knowledge graph and storing it in neo4j graph database for easy access and graph query capabilities"
   ]
  },
  {
   "cell_type": "markdown",
   "metadata": {},
   "source": [
    "Images after creating a Knowlege graph\n",
    "\n",
    "<img src=\"Images\\KG.jpg\" width=600px>"
   ]
  },
  {
   "cell_type": "markdown",
   "metadata": {},
   "source": [
    "##### Imports"
   ]
  },
  {
   "cell_type": "code",
   "execution_count": 62,
   "metadata": {},
   "outputs": [],
   "source": [
    "from neo4j import GraphDatabase\n",
    "import json\n",
    "\n",
    "def connect_to_neo4j(uri, user, password):\n",
    "    driver = GraphDatabase.driver(uri, auth=(user, password))\n",
    "    return driver\n"
   ]
  },
  {
   "cell_type": "markdown",
   "metadata": {},
   "source": [
    "##### Generate KG\n",
    "Generate Knowledge graph by generating node / entites and edges / relations by connecting to neo4j and Query their database"
   ]
  },
  {
   "cell_type": "code",
   "execution_count": null,
   "metadata": {},
   "outputs": [],
   "source": [
    "\n",
    "def _create_entity_node(tx, entity_name, entity_type):\n",
    "    type = entity_type\n",
    "    tx.run(\n",
    "        f\"MERGE (n:{type} {{name: $entity_name, type: $entity_type}}) RETURN n\",\n",
    "        entity_type=entity_type,\n",
    "        entity_name=entity_name\n",
    "    )\n",
    "\n",
    "# Cypher query to create a relationship\n",
    "def _create_relationship(tx, source, relation, target):\n",
    "    tx.run(\n",
    "        \"MATCH (a), (b) \"\n",
    "        \"WHERE a.name = $source AND b.name = $target \"\n",
    "        f\"CREATE (a)-[r:{relation} {{relation: $relation}}]->(b)\",\n",
    "        source=source,\n",
    "        relation=relation,\n",
    "        target=target\n",
    "    )\n",
    "\n",
    "def create_KnowledgeGraph(driver, data):\n",
    "    with driver.session() as session:\n",
    "        for entity in data['entities']:\n",
    "            session.write_transaction(\n",
    "                _create_entity_node,\n",
    "                entity['entity'],\n",
    "                entity['type'])\n",
    "        for relation in data['relations']:\n",
    "            session.write_transaction(\n",
    "                _create_relationship,\n",
    "                relation['source'],\n",
    "                relation['relation'],\n",
    "                relation['target'])\n"
   ]
  },
  {
   "cell_type": "markdown",
   "metadata": {},
   "source": [
    "###### Sample test on single file"
   ]
  },
  {
   "cell_type": "code",
   "execution_count": null,
   "metadata": {},
   "outputs": [],
   "source": [
    "with open(r\"output\\bankrupt\\ADHUNIK_2015_MDA.txt.json\", \"r\", encoding='utf-8') as f:\n",
    "    data = json.load(f)\n",
    "\n",
    "    for entity in data['entities']:\n",
    "        print(entity)\n",
    "\n",
    "    for relation in data['relations']:\n",
    "        print(relation)"
   ]
  },
  {
   "cell_type": "code",
   "execution_count": 60,
   "metadata": {},
   "outputs": [
    {
     "name": "stderr",
     "output_type": "stream",
     "text": [
      "C:\\Users\\vijay\\AppData\\Local\\Temp\\ipykernel_23432\\2015863591.py:4: DeprecationWarning: write_transaction has been renamed to execute_write\n",
      "  session.write_transaction(\n",
      "C:\\Users\\vijay\\AppData\\Local\\Temp\\ipykernel_23432\\2015863591.py:9: DeprecationWarning: write_transaction has been renamed to execute_write\n",
      "  session.write_transaction(\n"
     ]
    },
    {
     "name": "stdout",
     "output_type": "stream",
     "text": [
      "Knowledge graph created successfully!\n"
     ]
    }
   ],
   "source": [
    "\n",
    "# Main function\n",
    "if __name__ == \"__main__\":\n",
    "    # Load the JSON data\n",
    "    with open(r\"output\\bankrupt\\ADHUNIK_2015_MDA.txt.json\", \"r\", encoding='utf-8') as f:\n",
    "        data = json.load(f)\n",
    "\n",
    "    # Connect to Neo4j\n",
    "    driver = connect_to_neo4j('neo4j+s://71b5baef.databases.neo4j.io', 'neo4j', 'K1IaKKvkPmXZeZHMkzzusL7rkU2F8xgyPMyze0YWcWs')\n",
    "\n",
    "    # Create the knowledge graph\n",
    "    create_KnowledgeGraph(driver, data)\n",
    "    print(\"Knowledge graph created successfully!\")"
   ]
  },
  {
   "cell_type": "markdown",
   "metadata": {},
   "source": [
    "##### Create KG combined\n",
    "Add all the companies and thier data to KG, to create a genarl body Knowledge graph.\n",
    "Doing it for both bankrupt and healty companies"
   ]
  },
  {
   "cell_type": "code",
   "execution_count": 61,
   "metadata": {},
   "outputs": [
    {
     "name": "stderr",
     "output_type": "stream",
     "text": [
      "C:\\Users\\vijay\\AppData\\Local\\Temp\\ipykernel_23432\\2015863591.py:4: DeprecationWarning: write_transaction has been renamed to execute_write\n",
      "  session.write_transaction(\n",
      "C:\\Users\\vijay\\AppData\\Local\\Temp\\ipykernel_23432\\2015863591.py:9: DeprecationWarning: write_transaction has been renamed to execute_write\n",
      "  session.write_transaction(\n"
     ]
    },
    {
     "name": "stdout",
     "output_type": "stream",
     "text": [
      "Knowledge graph created successfully for ABGSHIP_2013_MDA.txt.json!\n",
      "Knowledge graph created successfully for ADHUNIK_2015_MDA.txt.json!\n",
      "Knowledge graph created successfully for ADHUNIK_2016_MDA.txt.json!\n",
      "Knowledge graph created successfully for ADHUNIK_2017_MDA.txt.json!\n",
      "Knowledge graph created successfully for ANGIND_2013_MDA.txt.json!\n",
      "Knowledge graph created successfully for ANGIND_2015_MDA.txt.json!\n",
      "Knowledge graph created successfully for ANGIND_2016_MDA.txt.json!\n",
      "Knowledge graph created successfully for ANGIND_2017_MDA.txt.json!\n",
      "Knowledge graph created successfully for ASHAPURMIN_2017_MDA.txt.json!\n",
      "Knowledge graph created successfully for ASHAPURMIN_2018_MDA.txt.json!\n",
      "Knowledge graph created successfully for ASHAPURMIN_2019_MDA.txt.json!\n",
      "Knowledge graph created successfully for BAFNAPH_2017_MDA.txt.json!\n",
      "Knowledge graph created successfully for BAFNAPH_2018_MDA.txt.json!\n",
      "Knowledge graph created successfully for BAFNAPH_2019_MDA.txt.json!\n",
      "Knowledge graph created successfully for BAFNAPH_2020_MDA.txt.json!\n",
      "Knowledge graph created successfully for BHUSANSTL_2016_MDA.txt.json!\n",
      "Knowledge graph created successfully for CANDC_2016_MDA.txt.json!\n",
      "Knowledge graph created successfully for CANDC_symbol_2017_MDA.txt.json!\n",
      "Knowledge graph created successfully for EASUNREYRL_2011_MDA.txt.json!\n",
      "Knowledge graph created successfully for EASUNREYRL_2012_MDA.txt.json!\n",
      "Knowledge graph created successfully for EASUNREYRL_2013_MDA.txt.json!\n",
      "Knowledge graph created successfully for EASUNREYRL_2014_MDA.txt.json!\n",
      "Knowledge graph created successfully for EASUNREYRL_2015_MDA.txt.json!\n",
      "Knowledge graph created successfully for EASUNREYRL_2016_MDA.txt.json!\n",
      "Knowledge graph created successfully for EASUNREYRL_2017_MDA.txt.json!\n",
      "Knowledge graph created successfully for EASUNREYRL_2018_MDA.txt.json!\n",
      "Knowledge graph created successfully for EDL_2016_MDA.txt.json!\n",
      "Knowledge graph created successfully for EDL_2017_MDA.txt.json!\n",
      "Knowledge graph created successfully for EDL_2018_MDA.txt.json!\n",
      "Knowledge graph created successfully for GALLANT_2016_MDA.txt.json!\n",
      "Knowledge graph created successfully for GALLANT_2017_MDA.txt.json!\n",
      "Knowledge graph created successfully for GEMINI_2017_MDA.txt.json!\n",
      "Knowledge graph created successfully for GUJNRECOKE_2015_MDA.txt.json!\n",
      "Knowledge graph created successfully for GUJNRECOKE_2016_MDA.txt.json!\n",
      "Knowledge graph created successfully for INDOSOLAR_2017_MDA.txt.json!\n",
      "Knowledge graph created successfully for INDOSOLAR_2019_MDA.txt.json!\n",
      "Knowledge graph created successfully for IVRCLINFRA_2019_MDA.txt.json!\n",
      "Knowledge graph created successfully for IVRCLINFRA_2020_MDA.txt.json!\n",
      "Knowledge graph created successfully for IVRCLINFRA_2021_MDA.txt.json!\n",
      "Knowledge graph created successfully for IVRCLINFRA_2022_MDA.txt.json!\n",
      "Knowledge graph created successfully for JAIHINDPRO_2017_MDA.txt.json!\n",
      "Knowledge graph created successfully for JAIHINDPRO_2018_MDA.txt.json!\n",
      "Knowledge graph created successfully for JENSONICOL_2016_MDA.txt.json!\n",
      "Knowledge graph created successfully for JENSONICOL_2017_MDA.txt.json!\n",
      "Knowledge graph created successfully for JPINFRATEC_2017_MDA.txt.json!\n",
      "Knowledge graph created successfully for JPINFRATEC_2018_MDA.txt.json!\n",
      "Knowledge graph created successfully for JPINFRATEC_2019_MDA.txt.json!\n",
      "Knowledge graph created successfully for JPINFRATEC_2020_MDA.txt.json!\n",
      "Knowledge graph created successfully for JPINFRATEC_2021_MDA.txt.json!\n",
      "Knowledge graph created successfully for KWALITY_2020_MDA.txt.json!\n"
     ]
    }
   ],
   "source": [
    "bankrupt_files_path = r'output\\bankrupt'\n",
    "import os\n",
    "for file in os.listdir(bankrupt_files_path):\n",
    "    with open(os.path.join(bankrupt_files_path, file), 'r', encoding='utf-8') as f:\n",
    "        data = json.load(f)\n",
    "\n",
    "    create_KnowledgeGraph(driver, data)\n",
    "    print(f\"Knowledge graph created successfully for {file}!\")"
   ]
  },
  {
   "cell_type": "code",
   "execution_count": 66,
   "metadata": {},
   "outputs": [],
   "source": [
    "healthy_files_path = r'output\\healthy'\n"
   ]
  },
  {
   "cell_type": "code",
   "execution_count": 67,
   "metadata": {},
   "outputs": [
    {
     "name": "stderr",
     "output_type": "stream",
     "text": [
      "C:\\Users\\vijay\\AppData\\Local\\Temp\\ipykernel_23432\\2015863591.py:4: DeprecationWarning: write_transaction has been renamed to execute_write\n",
      "  session.write_transaction(\n",
      "Failed to write data to connection ResolvedIPv4Address(('34.126.114.186', 7687)) (ResolvedIPv4Address(('34.126.114.186', 7687)))\n",
      "Failed to write data to connection IPv4Address(('71b5baef.databases.neo4j.io', 7687)) (ResolvedIPv4Address(('34.126.114.186', 7687)))\n",
      "C:\\Users\\vijay\\AppData\\Local\\Temp\\ipykernel_23432\\2015863591.py:9: DeprecationWarning: write_transaction has been renamed to execute_write\n",
      "  session.write_transaction(\n"
     ]
    },
    {
     "name": "stdout",
     "output_type": "stream",
     "text": [
      "Knowledge graph created successfully for ADVENZYM_2017_MDA.txt.json!\n",
      "Knowledge graph created successfully for ADVENZYM_2019_MDA.txt.json!\n",
      "Knowledge graph created successfully for ADVENZYM_2020_MDA.txt.json!\n",
      "Knowledge graph created successfully for ADVENZYM_2021_MDA.txt.json!\n",
      "Knowledge graph created successfully for ADVENZYM_2022_MDA.txt.json!\n",
      "Knowledge graph created successfully for ADVENZYM_2023_MDA.txt.json!\n",
      "Knowledge graph created successfully for AFFLE_2020_MDA.txt.json!\n",
      "Knowledge graph created successfully for AFFLE_2022_MDA.txt.json!\n",
      "Knowledge graph created successfully for AFFLE_2023_MDA.txt.json!\n",
      "Knowledge graph created successfully for ALEMBICLTD_2019_MDA.txt.json!\n",
      "Knowledge graph created successfully for ALEMBICLTD_2020_MDA.txt.json!\n",
      "Knowledge graph created successfully for ALEMBICLTD_2021_MDA.txt.json!\n",
      "Knowledge graph created successfully for ALEMBICLTD_2022_MDA.txt.json!\n",
      "Knowledge graph created successfully for ALEMBICLTD_2023_MDA.txt.json!\n",
      "Knowledge graph created successfully for AMARAJABAT_2015_MDA.txt.json!\n",
      "Knowledge graph created successfully for AMARAJABAT_2016_MDA.txt.json!\n",
      "Knowledge graph created successfully for AMARAJABAT_2017_MDA.txt.json!\n",
      "Knowledge graph created successfully for AMARAJABAT_2018_MDA.txt.json!\n",
      "Knowledge graph created successfully for AMARAJABAT_2019_MDA.txt.json!\n",
      "Knowledge graph created successfully for AMARAJABAT_2020_MDA.txt.json!\n",
      "Knowledge graph created successfully for AMARAJABAT_2021_MDA.txt.json!\n",
      "Knowledge graph created successfully for AMARAJABAT_2022_MDA.txt.json!\n",
      "Knowledge graph created successfully for AMARAJABAT_2023_MDA.txt.json!\n",
      "Knowledge graph created successfully for ASTERDM_18_MDA.txt.json!\n",
      "Knowledge graph created successfully for ASTERDM_19_MDA.txt.json!\n",
      "Knowledge graph created successfully for ASTERDM_20_MDA.txt.json!\n",
      "Knowledge graph created successfully for ASTERDM_22_MDA.txt.json!\n",
      "Knowledge graph created successfully for ASTERDM_23_MDA.txt.json!\n",
      "Knowledge graph created successfully for AVANTIFEED_15_MDA.txt.json!\n",
      "Knowledge graph created successfully for AVANTIFEED_16_MDA.txt.json!\n",
      "Knowledge graph created successfully for AVANTIFEED_18_MDA.txt.json!\n",
      "Knowledge graph created successfully for AVANTIFEED_19_MDA.txt.json!\n",
      "Knowledge graph created successfully for AVANTIFEED_20_MDA.txt.json!\n",
      "Knowledge graph created successfully for AVANTIFEED_21_MDA.txt.json!\n",
      "Knowledge graph created successfully for AVANTIFEED_22_MDA.txt.json!\n",
      "Knowledge graph created successfully for AVANTIFEED_23_MDA.txt.json!\n",
      "Knowledge graph created successfully for BALRAMCHIN_2015_MDA.txt.json!\n",
      "Knowledge graph created successfully for BALRAMCHIN_2016_MDA.txt.json!\n",
      "Knowledge graph created successfully for BALRAMCHIN_2017_MDA.txt.json!\n",
      "Knowledge graph created successfully for BALRAMCHIN_2018_MDA.txt.json!\n",
      "Knowledge graph created successfully for BALRAMCHIN_2019_MDA.txt.json!\n",
      "Knowledge graph created successfully for BALRAMCHIN_2020_MDA.txt.json!\n",
      "Knowledge graph created successfully for BALRAMCHIN_2021_MDA.txt.json!\n",
      "Knowledge graph created successfully for BALRAMCHIN_2022_MDA.txt.json!\n",
      "Knowledge graph created successfully for BALRAMCHIN_2023_MDA.txt.json!\n",
      "Knowledge graph created successfully for CEATLTD_16_MDA.txt.json!\n",
      "Knowledge graph created successfully for CEATLTD_17_MDA.txt.json!\n",
      "Knowledge graph created successfully for CEATLTD_18_MDA.txt.json!\n",
      "Knowledge graph created successfully for CEATLTD_19_MDA.txt.json!\n",
      "Knowledge graph created successfully for CEATLTD_20_MDA.txt.json!\n"
     ]
    }
   ],
   "source": [
    "\n",
    "for file in os.listdir(healthy_files_path):\n",
    "    with open(os.path.join(healthy_files_path, file), 'r', encoding='utf-8') as f:\n",
    "        data = json.load(f)\n",
    "\n",
    "    create_KnowledgeGraph(driver, data)\n",
    "    print(f\"Knowledge graph created successfully for {file}!\")"
   ]
  }
 ],
 "metadata": {
  "kernelspec": {
   "display_name": ".langchain",
   "language": "python",
   "name": "python3"
  },
  "language_info": {
   "codemirror_mode": {
    "name": "ipython",
    "version": 3
   },
   "file_extension": ".py",
   "mimetype": "text/x-python",
   "name": "python",
   "nbconvert_exporter": "python",
   "pygments_lexer": "ipython3",
   "version": "3.10.11"
  }
 },
 "nbformat": 4,
 "nbformat_minor": 2
}
